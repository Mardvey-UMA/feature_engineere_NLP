{
 "cells": [
  {
   "cell_type": "code",
   "execution_count": 357,
   "metadata": {},
   "outputs": [],
   "source": [
    "#%pip install nltk\n",
    "#%pip install pandas\n",
    "#%pip install numpy\n",
    "#%pip install scikit-learn\n",
    "#%pip install spacy\n",
    "#%pip install pymorphy2"
   ]
  },
  {
   "cell_type": "code",
   "execution_count": 358,
   "metadata": {},
   "outputs": [],
   "source": [
    "import nltk\n",
    "from nltk import sent_tokenize, word_tokenize\n",
    "from nltk import wordpunct_tokenize\n",
    "from nltk.corpus import stopwords\n",
    "from nltk.stem import LancasterStemmer\n",
    "from nltk.stem import SnowballStemmer\n",
    "import pandas as pd\n",
    "import numpy as np\n",
    "import spacy\n",
    "import sklearn\n",
    "import pymorphy2\n",
    "from pymorphy2 import MorphAnalyzer\n",
    "import string\n",
    "import re"
   ]
  },
  {
   "cell_type": "code",
   "execution_count": 359,
   "metadata": {},
   "outputs": [
    {
     "name": "stderr",
     "output_type": "stream",
     "text": [
      "[nltk_data] Downloading package stopwords to\n",
      "[nltk_data]     C:\\Users\\NitghtWay\\AppData\\Roaming\\nltk_data...\n",
      "[nltk_data]   Package stopwords is already up-to-date!\n",
      "[nltk_data] Downloading package punkt to\n",
      "[nltk_data]     C:\\Users\\NitghtWay\\AppData\\Roaming\\nltk_data...\n",
      "[nltk_data]   Package punkt is already up-to-date!\n"
     ]
    }
   ],
   "source": [
    "#define\n",
    "nltk.download('stopwords')\n",
    "nltk.download('punkt')\n",
    "rus = \"russian\"\n",
    "sw = stopwords.words(rus)\n",
    "morph = MorphAnalyzer()\n",
    "patterns = \"[A-Za-z0-9!#$%&'()*+,./:;<=>?@[\\]^_`{|}~—\\\"\\-]+\"\n",
    "lancaster = LancasterStemmer()\n",
    "snowball = SnowballStemmer(language=rus)"
   ]
  },
  {
   "cell_type": "code",
   "execution_count": 360,
   "metadata": {},
   "outputs": [],
   "source": [
    "test_ds1_path = \"C:\\\\course_work_git\\\\feature_engineere_NLP\\\\datasets\\\\test_ds1\\\\train.jsonl\""
   ]
  },
  {
   "cell_type": "code",
   "execution_count": 361,
   "metadata": {},
   "outputs": [
    {
     "data": {
      "text/html": [
       "<div>\n",
       "<style scoped>\n",
       "    .dataframe tbody tr th:only-of-type {\n",
       "        vertical-align: middle;\n",
       "    }\n",
       "\n",
       "    .dataframe tbody tr th {\n",
       "        vertical-align: top;\n",
       "    }\n",
       "\n",
       "    .dataframe thead th {\n",
       "        text-align: right;\n",
       "    }\n",
       "</style>\n",
       "<table border=\"1\" class=\"dataframe\">\n",
       "  <thead>\n",
       "    <tr style=\"text-align: right;\">\n",
       "      <th></th>\n",
       "      <th>premise</th>\n",
       "      <th>label</th>\n",
       "      <th>hypothesis</th>\n",
       "      <th>verb</th>\n",
       "      <th>negation</th>\n",
       "      <th>genre</th>\n",
       "      <th>idx</th>\n",
       "      <th>no_negation</th>\n",
       "    </tr>\n",
       "  </thead>\n",
       "  <tbody>\n",
       "    <tr>\n",
       "      <th>0</th>\n",
       "      <td>Сумма ущерба составила одну тысячу рублей. Уто...</td>\n",
       "      <td>entailment</td>\n",
       "      <td>Ранее местный житель совершал подобное правона...</td>\n",
       "      <td>судить</td>\n",
       "      <td>no_negation</td>\n",
       "      <td>kp</td>\n",
       "      <td>0</td>\n",
       "      <td>NaN</td>\n",
       "    </tr>\n",
       "    <tr>\n",
       "      <th>1</th>\n",
       "      <td>Перебрасываясь словечками, они скользят глазам...</td>\n",
       "      <td>contradiction</td>\n",
       "      <td>Они что-то понимают</td>\n",
       "      <td>смотреть</td>\n",
       "      <td>no_negation</td>\n",
       "      <td>fiction</td>\n",
       "      <td>1</td>\n",
       "      <td>NaN</td>\n",
       "    </tr>\n",
       "    <tr>\n",
       "      <th>2</th>\n",
       "      <td>— Разве что, — сказала она, — мы хотим где-ниб...</td>\n",
       "      <td>neutral</td>\n",
       "      <td>Это “ Таганская ”, а не “ Тульская ”.</td>\n",
       "      <td>понять</td>\n",
       "      <td>no_negation</td>\n",
       "      <td>fiction</td>\n",
       "      <td>2</td>\n",
       "      <td>NaN</td>\n",
       "    </tr>\n",
       "    <tr>\n",
       "      <th>3</th>\n",
       "      <td>Зима, наконец, показала свой характер.</td>\n",
       "      <td>contradiction</td>\n",
       "      <td>У зимы есть свой характер.</td>\n",
       "      <td>показать</td>\n",
       "      <td>no_negation</td>\n",
       "      <td>kp</td>\n",
       "      <td>3</td>\n",
       "      <td>NaN</td>\n",
       "    </tr>\n",
       "    <tr>\n",
       "      <th>4</th>\n",
       "      <td>ГуманностьБогаподобнымсценариемнепредполагаетс...</td>\n",
       "      <td>contradiction</td>\n",
       "      <td>Это должно быть просто.</td>\n",
       "      <td>сказать</td>\n",
       "      <td>no_negation</td>\n",
       "      <td>fiction</td>\n",
       "      <td>4</td>\n",
       "      <td>NaN</td>\n",
       "    </tr>\n",
       "    <tr>\n",
       "      <th>...</th>\n",
       "      <td>...</td>\n",
       "      <td>...</td>\n",
       "      <td>...</td>\n",
       "      <td>...</td>\n",
       "      <td>...</td>\n",
       "      <td>...</td>\n",
       "      <td>...</td>\n",
       "      <td>...</td>\n",
       "    </tr>\n",
       "    <tr>\n",
       "      <th>433</th>\n",
       "      <td>Тверские спортсмены показали отличный результа...</td>\n",
       "      <td>entailment</td>\n",
       "      <td>У тверских спортсменов пять новых медалей.</td>\n",
       "      <td>суметь</td>\n",
       "      <td>no_negation</td>\n",
       "      <td>kp</td>\n",
       "      <td>433</td>\n",
       "      <td>NaN</td>\n",
       "    </tr>\n",
       "    <tr>\n",
       "      <th>434</th>\n",
       "      <td>Просто я не хочу с ним жить и, извини, больше ...</td>\n",
       "      <td>contradiction</td>\n",
       "      <td>Этого было вполне достаточно.</td>\n",
       "      <td>уверять</td>\n",
       "      <td>no_negation</td>\n",
       "      <td>fiction</td>\n",
       "      <td>434</td>\n",
       "      <td>NaN</td>\n",
       "    </tr>\n",
       "    <tr>\n",
       "      <th>435</th>\n",
       "      <td>Второй аргумент: все читаем и видим, что надви...</td>\n",
       "      <td>neutral</td>\n",
       "      <td>Надвигается вторая волна кризиса.</td>\n",
       "      <td>видеть</td>\n",
       "      <td>negation</td>\n",
       "      <td>interfax</td>\n",
       "      <td>435</td>\n",
       "      <td>NaN</td>\n",
       "    </tr>\n",
       "    <tr>\n",
       "      <th>436</th>\n",
       "      <td>— Да, сын. Здравствуй. — Ты можешь говорить, н...</td>\n",
       "      <td>neutral</td>\n",
       "      <td>Сын не занят</td>\n",
       "      <td>говорить</td>\n",
       "      <td>no_negation</td>\n",
       "      <td>fiction</td>\n",
       "      <td>436</td>\n",
       "      <td>NaN</td>\n",
       "    </tr>\n",
       "    <tr>\n",
       "      <th>437</th>\n",
       "      <td>Там сказали, что сейчас принимаются меры по сп...</td>\n",
       "      <td>entailment</td>\n",
       "      <td>Сейчас принимаются меры по спуску тела умершег...</td>\n",
       "      <td>сказать</td>\n",
       "      <td>no_negation</td>\n",
       "      <td>interfax</td>\n",
       "      <td>437</td>\n",
       "      <td>NaN</td>\n",
       "    </tr>\n",
       "  </tbody>\n",
       "</table>\n",
       "<p>438 rows × 8 columns</p>\n",
       "</div>"
      ],
      "text/plain": [
       "                                               premise          label  \\\n",
       "0    Сумма ущерба составила одну тысячу рублей. Уто...     entailment   \n",
       "1    Перебрасываясь словечками, они скользят глазам...  contradiction   \n",
       "2    — Разве что, — сказала она, — мы хотим где-ниб...        neutral   \n",
       "3               Зима, наконец, показала свой характер.  contradiction   \n",
       "4    ГуманностьБогаподобнымсценариемнепредполагаетс...  contradiction   \n",
       "..                                                 ...            ...   \n",
       "433  Тверские спортсмены показали отличный результа...     entailment   \n",
       "434  Просто я не хочу с ним жить и, извини, больше ...  contradiction   \n",
       "435  Второй аргумент: все читаем и видим, что надви...        neutral   \n",
       "436  — Да, сын. Здравствуй. — Ты можешь говорить, н...        neutral   \n",
       "437  Там сказали, что сейчас принимаются меры по сп...     entailment   \n",
       "\n",
       "                                            hypothesis      verb     negation  \\\n",
       "0    Ранее местный житель совершал подобное правона...    судить  no_negation   \n",
       "1                                  Они что-то понимают  смотреть  no_negation   \n",
       "2                Это “ Таганская ”, а не “ Тульская ”.    понять  no_negation   \n",
       "3                           У зимы есть свой характер.  показать  no_negation   \n",
       "4                              Это должно быть просто.   сказать  no_negation   \n",
       "..                                                 ...       ...          ...   \n",
       "433         У тверских спортсменов пять новых медалей.    суметь  no_negation   \n",
       "434                      Этого было вполне достаточно.   уверять  no_negation   \n",
       "435                  Надвигается вторая волна кризиса.    видеть     negation   \n",
       "436                                       Сын не занят  говорить  no_negation   \n",
       "437  Сейчас принимаются меры по спуску тела умершег...   сказать  no_negation   \n",
       "\n",
       "        genre  idx no_negation  \n",
       "0          kp    0         NaN  \n",
       "1     fiction    1         NaN  \n",
       "2     fiction    2         NaN  \n",
       "3          kp    3         NaN  \n",
       "4     fiction    4         NaN  \n",
       "..        ...  ...         ...  \n",
       "433        kp  433         NaN  \n",
       "434   fiction  434         NaN  \n",
       "435  interfax  435         NaN  \n",
       "436   fiction  436         NaN  \n",
       "437  interfax  437         NaN  \n",
       "\n",
       "[438 rows x 8 columns]"
      ]
     },
     "execution_count": 361,
     "metadata": {},
     "output_type": "execute_result"
    }
   ],
   "source": [
    "data = pd.read_json(test_ds1_path, lines=True)\n",
    "data"
   ]
  },
  {
   "cell_type": "code",
   "execution_count": 362,
   "metadata": {},
   "outputs": [
    {
     "data": {
      "text/plain": [
       "pandas.core.frame.DataFrame"
      ]
     },
     "execution_count": 362,
     "metadata": {},
     "output_type": "execute_result"
    }
   ],
   "source": [
    "type(data)"
   ]
  },
  {
   "cell_type": "code",
   "execution_count": 363,
   "metadata": {},
   "outputs": [],
   "source": [
    "data = data.drop(['label', 'hypothesis', 'verb','negation','genre','idx','no_negation'], axis=1)"
   ]
  },
  {
   "cell_type": "code",
   "execution_count": 364,
   "metadata": {},
   "outputs": [
    {
     "data": {
      "text/html": [
       "<div>\n",
       "<style scoped>\n",
       "    .dataframe tbody tr th:only-of-type {\n",
       "        vertical-align: middle;\n",
       "    }\n",
       "\n",
       "    .dataframe tbody tr th {\n",
       "        vertical-align: top;\n",
       "    }\n",
       "\n",
       "    .dataframe thead th {\n",
       "        text-align: right;\n",
       "    }\n",
       "</style>\n",
       "<table border=\"1\" class=\"dataframe\">\n",
       "  <thead>\n",
       "    <tr style=\"text-align: right;\">\n",
       "      <th></th>\n",
       "      <th>premise</th>\n",
       "    </tr>\n",
       "  </thead>\n",
       "  <tbody>\n",
       "    <tr>\n",
       "      <th>0</th>\n",
       "      <td>Сумма ущерба составила одну тысячу рублей. Уто...</td>\n",
       "    </tr>\n",
       "    <tr>\n",
       "      <th>1</th>\n",
       "      <td>Перебрасываясь словечками, они скользят глазам...</td>\n",
       "    </tr>\n",
       "    <tr>\n",
       "      <th>2</th>\n",
       "      <td>— Разве что, — сказала она, — мы хотим где-ниб...</td>\n",
       "    </tr>\n",
       "    <tr>\n",
       "      <th>3</th>\n",
       "      <td>Зима, наконец, показала свой характер.</td>\n",
       "    </tr>\n",
       "    <tr>\n",
       "      <th>4</th>\n",
       "      <td>ГуманностьБогаподобнымсценариемнепредполагаетс...</td>\n",
       "    </tr>\n",
       "  </tbody>\n",
       "</table>\n",
       "</div>"
      ],
      "text/plain": [
       "                                             premise\n",
       "0  Сумма ущерба составила одну тысячу рублей. Уто...\n",
       "1  Перебрасываясь словечками, они скользят глазам...\n",
       "2  — Разве что, — сказала она, — мы хотим где-ниб...\n",
       "3             Зима, наконец, показала свой характер.\n",
       "4  ГуманностьБогаподобнымсценариемнепредполагаетс..."
      ]
     },
     "execution_count": 364,
     "metadata": {},
     "output_type": "execute_result"
    }
   ],
   "source": [
    "data.head()"
   ]
  },
  {
   "cell_type": "code",
   "execution_count": 365,
   "metadata": {},
   "outputs": [
    {
     "name": "stdout",
     "output_type": "stream",
     "text": [
      "<class 'pandas.core.frame.DataFrame'>\n",
      "RangeIndex: 438 entries, 0 to 437\n",
      "Data columns (total 1 columns):\n",
      " #   Column   Non-Null Count  Dtype \n",
      "---  ------   --------------  ----- \n",
      " 0   premise  438 non-null    object\n",
      "dtypes: object(1)\n",
      "memory usage: 3.5+ KB\n"
     ]
    }
   ],
   "source": [
    "data.info()"
   ]
  },
  {
   "cell_type": "code",
   "execution_count": 366,
   "metadata": {},
   "outputs": [
    {
     "data": {
      "text/plain": [
       "(438, 1)"
      ]
     },
     "execution_count": 366,
     "metadata": {},
     "output_type": "execute_result"
    }
   ],
   "source": [
    "data.shape"
   ]
  },
  {
   "cell_type": "markdown",
   "metadata": {},
   "source": [
    "Вспомогательные методы"
   ]
  },
  {
   "cell_type": "code",
   "execution_count": 367,
   "metadata": {},
   "outputs": [],
   "source": [
    "#напиши python функцию, которая принимает на вход массив и выводит его элементы в виде таблицы с шириной 5 элементов и выровняет их по ширине, высота таблицы будет зависеть от общего количества элементов в массиве\n",
    "def print_table(array):\n",
    "    table_width = 5\n",
    "    for i in range(0, len(array), table_width):\n",
    "        row = array[i:i + table_width]\n",
    "        formatted_row = \" \".join([\"{:<10}\".format(str(elem)) for elem in row])\n",
    "        print(formatted_row)"
   ]
  },
  {
   "cell_type": "code",
   "execution_count": 368,
   "metadata": {},
   "outputs": [],
   "source": [
    "def remove_punctuation(text):\n",
    "    return ''.join([ch for ch in text if ch not in \n",
    "    string.punctuation])"
   ]
  },
  {
   "cell_type": "code",
   "execution_count": 369,
   "metadata": {},
   "outputs": [],
   "source": [
    "def remove_numbers(text):\n",
    "    return ''.join([i if not i.isdigit() else ' ' for i in text]) \n",
    "    # метод для удаления чисел"
   ]
  },
  {
   "cell_type": "code",
   "execution_count": 370,
   "metadata": {},
   "outputs": [],
   "source": [
    "def remove_patterns(text):\n",
    "    text = re.sub(patterns, ' ', text)\n",
    "    return text"
   ]
  },
  {
   "cell_type": "code",
   "execution_count": 371,
   "metadata": {},
   "outputs": [],
   "source": [
    "def remove_notalpha(text):\n",
    "    return ''.join(i if i.isalpha() else ' ' for i in text) # "
   ]
  },
  {
   "cell_type": "markdown",
   "metadata": {},
   "source": [
    "Стемминг с использованием SnowBall"
   ]
  },
  {
   "cell_type": "code",
   "execution_count": 372,
   "metadata": {},
   "outputs": [
    {
     "name": "stdout",
     "output_type": "stream",
     "text": [
      "<class 'str'>\n",
      "— Разве что, — сказала она, — мы хотим где-нибудь выпить кофе. — Мне кажется, — сказал он, — что мы хотим. На следующей Он успел встать на эскалатор, когда понял, что это “Таганская”, а не “Тульская”.\n"
     ]
    }
   ],
   "source": [
    "example_text = data['premise'][2]\n",
    "print(type(example_text))\n",
    "print(example_text)"
   ]
  },
  {
   "cell_type": "code",
   "execution_count": 373,
   "metadata": {},
   "outputs": [],
   "source": [
    "def tokenize_snowball(text):\n",
    "    text = remove_notalpha(text)\n",
    "    text = remove_numbers(text)\n",
    "    text = remove_punctuation(text)\n",
    "    text = remove_patterns(text)\n",
    "    sentences = sent_tokenize(text, language=rus)\n",
    "    all_words = []\n",
    "    for sent in sentences:\n",
    "        words = word_tokenize(sent, language=rus)\n",
    "        for w in words:\n",
    "            if w in sw:\n",
    "                continue\n",
    "            else:\n",
    "                all_words.append(snowball.stem(w))\n",
    "            \n",
    "    return all_words"
   ]
  },
  {
   "cell_type": "code",
   "execution_count": 374,
   "metadata": {},
   "outputs": [
    {
     "name": "stdout",
     "output_type": "stream",
     "text": [
      "разв       сказа      хот        вып        коф       \n",
      "мне        кажет      сказа      хот        на        \n",
      "след       он         успел      встат      эскалатор \n",
      "поня       эт         таганск    тульск    \n"
     ]
    }
   ],
   "source": [
    "print_table(tokenize_snowball(example_text))"
   ]
  },
  {
   "cell_type": "code",
   "execution_count": 375,
   "metadata": {},
   "outputs": [],
   "source": [
    "lancaster = LancasterStemmer()\n",
    "def tokenize_lancaster(text):\n",
    "    text = remove_notalpha(text)\n",
    "    text = remove_numbers(text)\n",
    "    text = remove_patterns(text)\n",
    "    text = remove_punctuation(text)\n",
    "    sentences = sent_tokenize(text, language=rus)\n",
    "    all_words = []\n",
    "    for sent in sentences:\n",
    "        words = word_tokenize(sent, language=rus)\n",
    "        for w in words:\n",
    "            if w in sw:\n",
    "                continue\n",
    "            else:\n",
    "                all_words.append(lancaster.stem(w))\n",
    "    return all_words"
   ]
  },
  {
   "cell_type": "code",
   "execution_count": 376,
   "metadata": {},
   "outputs": [
    {
     "name": "stdout",
     "output_type": "stream",
     "text": [
      "разве      сказала    хотим      выпить     кофе      \n",
      "мне        кажется    сказал     хотим      на        \n",
      "следующей  он         успел      встать     эскалатор \n",
      "понял      это        таганская  тульская  \n"
     ]
    }
   ],
   "source": [
    "print_table(tokenize_lancaster(example_text))"
   ]
  },
  {
   "cell_type": "markdown",
   "metadata": {},
   "source": [
    "Лемматизация с помощью PyMorphy2"
   ]
  },
  {
   "cell_type": "code",
   "execution_count": 377,
   "metadata": {},
   "outputs": [],
   "source": [
    "def tokenize_morphy(text):\n",
    "    text = remove_notalpha(text)\n",
    "    text = remove_patterns(text)\n",
    "    text = remove_numbers(text)\n",
    "    text = remove_punctuation(text)\n",
    "    sentences = sent_tokenize(text, language=rus)\n",
    "    all_words = []\n",
    "    for sent in sentences:\n",
    "        words = word_tokenize(sent, language=rus)\n",
    "        for w in words:\n",
    "            if w in sw:\n",
    "                continue\n",
    "            else:\n",
    "                all_words.append(morph.normal_forms(w)[0])\n",
    "    if len(all_words) > 2:\n",
    "        #all_words = pd.Series(all_words)\n",
    "        return all_words\n",
    "    else:\n",
    "        return None\n",
    "    "
   ]
  },
  {
   "cell_type": "code",
   "execution_count": 378,
   "metadata": {},
   "outputs": [
    {
     "name": "stdout",
     "output_type": "stream",
     "text": [
      "разве      сказать    хотеть     выпить     кофе      \n",
      "я          казаться   сказать    хотеть     на        \n",
      "следующий  он         успеть     встать     эскалатор \n",
      "понять     это        таганский  тульский  \n"
     ]
    }
   ],
   "source": [
    "print_table(tokenize_morphy(example_text))"
   ]
  },
  {
   "cell_type": "code",
   "execution_count": 379,
   "metadata": {},
   "outputs": [],
   "source": [
    "df_morphy = pd.DataFrame({'text':[tokenize_morphy(sample) for sample in data['premise']]})\n",
    "df_snowball = pd.DataFrame({'text':[tokenize_snowball(sample) for sample in data['premise']]})\n",
    "df_lancaster = pd.DataFrame({'text':[tokenize_lancaster(sample) for sample in data['premise']]})"
   ]
  },
  {
   "cell_type": "code",
   "execution_count": 380,
   "metadata": {},
   "outputs": [
    {
     "data": {
      "text/html": [
       "<div>\n",
       "<style scoped>\n",
       "    .dataframe tbody tr th:only-of-type {\n",
       "        vertical-align: middle;\n",
       "    }\n",
       "\n",
       "    .dataframe tbody tr th {\n",
       "        vertical-align: top;\n",
       "    }\n",
       "\n",
       "    .dataframe thead th {\n",
       "        text-align: right;\n",
       "    }\n",
       "</style>\n",
       "<table border=\"1\" class=\"dataframe\">\n",
       "  <thead>\n",
       "    <tr style=\"text-align: right;\">\n",
       "      <th></th>\n",
       "      <th>text</th>\n",
       "    </tr>\n",
       "  </thead>\n",
       "  <tbody>\n",
       "    <tr>\n",
       "      <th>0</th>\n",
       "      <td>[сумма, ущерб, составить, один, тысяча, рубль,...</td>\n",
       "    </tr>\n",
       "    <tr>\n",
       "      <th>1</th>\n",
       "      <td>[перебрасываться, словечко, скользить, глаз, м...</td>\n",
       "    </tr>\n",
       "    <tr>\n",
       "      <th>2</th>\n",
       "      <td>[разве, сказать, хотеть, выпить, кофе, я, каза...</td>\n",
       "    </tr>\n",
       "    <tr>\n",
       "      <th>3</th>\n",
       "      <td>[зима, показать, свой, характер]</td>\n",
       "    </tr>\n",
       "    <tr>\n",
       "      <th>4</th>\n",
       "      <td>[гуманностьбогаподобнымсценариемнепредполагать...</td>\n",
       "    </tr>\n",
       "  </tbody>\n",
       "</table>\n",
       "</div>"
      ],
      "text/plain": [
       "                                                text\n",
       "0  [сумма, ущерб, составить, один, тысяча, рубль,...\n",
       "1  [перебрасываться, словечко, скользить, глаз, м...\n",
       "2  [разве, сказать, хотеть, выпить, кофе, я, каза...\n",
       "3                   [зима, показать, свой, характер]\n",
       "4  [гуманностьбогаподобнымсценариемнепредполагать..."
      ]
     },
     "execution_count": 380,
     "metadata": {},
     "output_type": "execute_result"
    }
   ],
   "source": [
    "df_morphy.head()"
   ]
  },
  {
   "cell_type": "code",
   "execution_count": 381,
   "metadata": {},
   "outputs": [
    {
     "data": {
      "text/html": [
       "<div>\n",
       "<style scoped>\n",
       "    .dataframe tbody tr th:only-of-type {\n",
       "        vertical-align: middle;\n",
       "    }\n",
       "\n",
       "    .dataframe tbody tr th {\n",
       "        vertical-align: top;\n",
       "    }\n",
       "\n",
       "    .dataframe thead th {\n",
       "        text-align: right;\n",
       "    }\n",
       "</style>\n",
       "<table border=\"1\" class=\"dataframe\">\n",
       "  <thead>\n",
       "    <tr style=\"text-align: right;\">\n",
       "      <th></th>\n",
       "      <th>text</th>\n",
       "    </tr>\n",
       "  </thead>\n",
       "  <tbody>\n",
       "    <tr>\n",
       "      <th>0</th>\n",
       "      <td>[сумм, ущерб, состав, одн, тысяч, рубл, уточня...</td>\n",
       "    </tr>\n",
       "    <tr>\n",
       "      <th>1</th>\n",
       "      <td>[перебрасыв, словечк, скольз, глаз, мо, город,...</td>\n",
       "    </tr>\n",
       "    <tr>\n",
       "      <th>2</th>\n",
       "      <td>[разв, сказа, хот, вып, коф, мне, кажет, сказа...</td>\n",
       "    </tr>\n",
       "    <tr>\n",
       "      <th>3</th>\n",
       "      <td>[зим, показа, сво, характер]</td>\n",
       "    </tr>\n",
       "    <tr>\n",
       "      <th>4</th>\n",
       "      <td>[гуманностьбогаподобнымсценариемнепредполага, ...</td>\n",
       "    </tr>\n",
       "  </tbody>\n",
       "</table>\n",
       "</div>"
      ],
      "text/plain": [
       "                                                text\n",
       "0  [сумм, ущерб, состав, одн, тысяч, рубл, уточня...\n",
       "1  [перебрасыв, словечк, скольз, глаз, мо, город,...\n",
       "2  [разв, сказа, хот, вып, коф, мне, кажет, сказа...\n",
       "3                       [зим, показа, сво, характер]\n",
       "4  [гуманностьбогаподобнымсценариемнепредполага, ..."
      ]
     },
     "execution_count": 381,
     "metadata": {},
     "output_type": "execute_result"
    }
   ],
   "source": [
    "df_snowball.head()"
   ]
  },
  {
   "cell_type": "code",
   "execution_count": 382,
   "metadata": {},
   "outputs": [
    {
     "data": {
      "text/html": [
       "<div>\n",
       "<style scoped>\n",
       "    .dataframe tbody tr th:only-of-type {\n",
       "        vertical-align: middle;\n",
       "    }\n",
       "\n",
       "    .dataframe tbody tr th {\n",
       "        vertical-align: top;\n",
       "    }\n",
       "\n",
       "    .dataframe thead th {\n",
       "        text-align: right;\n",
       "    }\n",
       "</style>\n",
       "<table border=\"1\" class=\"dataframe\">\n",
       "  <thead>\n",
       "    <tr style=\"text-align: right;\">\n",
       "      <th></th>\n",
       "      <th>text</th>\n",
       "    </tr>\n",
       "  </thead>\n",
       "  <tbody>\n",
       "    <tr>\n",
       "      <th>0</th>\n",
       "      <td>[сумма, ущерба, составила, одну, тысячу, рубле...</td>\n",
       "    </tr>\n",
       "    <tr>\n",
       "      <th>1</th>\n",
       "      <td>[перебрасываясь, словечками, скользят, глазами...</td>\n",
       "    </tr>\n",
       "    <tr>\n",
       "      <th>2</th>\n",
       "      <td>[разве, сказала, хотим, выпить, кофе, мне, каж...</td>\n",
       "    </tr>\n",
       "    <tr>\n",
       "      <th>3</th>\n",
       "      <td>[зима, показала, свой, характер]</td>\n",
       "    </tr>\n",
       "    <tr>\n",
       "      <th>4</th>\n",
       "      <td>[гуманностьбогаподобнымсценариемнепредполагает...</td>\n",
       "    </tr>\n",
       "  </tbody>\n",
       "</table>\n",
       "</div>"
      ],
      "text/plain": [
       "                                                text\n",
       "0  [сумма, ущерба, составила, одну, тысячу, рубле...\n",
       "1  [перебрасываясь, словечками, скользят, глазами...\n",
       "2  [разве, сказала, хотим, выпить, кофе, мне, каж...\n",
       "3                   [зима, показала, свой, характер]\n",
       "4  [гуманностьбогаподобнымсценариемнепредполагает..."
      ]
     },
     "execution_count": 382,
     "metadata": {},
     "output_type": "execute_result"
    }
   ],
   "source": [
    "df_lancaster.head()"
   ]
  }
 ],
 "metadata": {
  "kernelspec": {
   "display_name": "Python 3",
   "language": "python",
   "name": "python3"
  },
  "language_info": {
   "codemirror_mode": {
    "name": "ipython",
    "version": 3
   },
   "file_extension": ".py",
   "mimetype": "text/x-python",
   "name": "python",
   "nbconvert_exporter": "python",
   "pygments_lexer": "ipython3",
   "version": "3.10.13"
  }
 },
 "nbformat": 4,
 "nbformat_minor": 2
}
